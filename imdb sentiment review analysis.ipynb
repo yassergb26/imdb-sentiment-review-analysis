{
 "cells": [
  {
   "cell_type": "code",
   "execution_count": 92,
   "id": "509cfdb5",
   "metadata": {},
   "outputs": [],
   "source": [
    "import pandas as pd\n",
    "import numpy as np\n",
    "from sklearn.model_selection import train_test_split\n",
    "from sklearn.feature_extraction.text import TfidfVectorizer\n",
    "from sklearn.linear_model import LogisticRegression\n",
    "from sklearn.metrics import accuracy_score, classification_report, confusion_matrix\n",
    "from nltk.corpus import stopwords\n",
    "from nltk.tokenize import word_tokenize\n",
    "import nltk\n",
    "from sklearn.model_selection import GridSearchCV\n",
    "from sklearn.pipeline import Pipeline\n",
    "\n",
    "\n"
   ]
  },
  {
   "cell_type": "code",
   "execution_count": 93,
   "id": "b9a32ac6",
   "metadata": {},
   "outputs": [
    {
     "name": "stderr",
     "output_type": "stream",
     "text": [
      "[nltk_data] Downloading package stopwords to\n",
      "[nltk_data]     C:\\Users\\ym221\\AppData\\Roaming\\nltk_data...\n",
      "[nltk_data]   Package stopwords is already up-to-date!\n"
     ]
    },
    {
     "data": {
      "text/plain": [
       "True"
      ]
     },
     "execution_count": 93,
     "metadata": {},
     "output_type": "execute_result"
    }
   ],
   "source": [
    "import nltk\n",
    "nltk.download('stopwords')\n"
   ]
  },
  {
   "cell_type": "code",
   "execution_count": 94,
   "id": "f529ffc7",
   "metadata": {},
   "outputs": [],
   "source": [
    "imdb = pd.read_csv('IMDB Dataset.csv')"
   ]
  },
  {
   "cell_type": "code",
   "execution_count": 95,
   "id": "09f1a86e",
   "metadata": {},
   "outputs": [
    {
     "data": {
      "text/plain": [
       "<bound method NDFrame.head of                                                   review sentiment\n",
       "0      One of the other reviewers has mentioned that ...  positive\n",
       "1      A wonderful little production. <br /><br />The...  positive\n",
       "2      I thought this was a wonderful way to spend ti...  positive\n",
       "3      Basically there's a family where a little boy ...  negative\n",
       "4      Petter Mattei's \"Love in the Time of Money\" is...  positive\n",
       "...                                                  ...       ...\n",
       "49995  I thought this movie did a down right good job...  positive\n",
       "49996  Bad plot, bad dialogue, bad acting, idiotic di...  negative\n",
       "49997  I am a Catholic taught in parochial elementary...  negative\n",
       "49998  I'm going to have to disagree with the previou...  negative\n",
       "49999  No one expects the Star Trek movies to be high...  negative\n",
       "\n",
       "[50000 rows x 2 columns]>"
      ]
     },
     "execution_count": 95,
     "metadata": {},
     "output_type": "execute_result"
    }
   ],
   "source": [
    "imdb.head"
   ]
  },
  {
   "cell_type": "code",
   "execution_count": 96,
   "id": "3204ace9",
   "metadata": {},
   "outputs": [
    {
     "data": {
      "text/plain": [
       "<bound method NDFrame.tail of                                                   review sentiment\n",
       "0      One of the other reviewers has mentioned that ...  positive\n",
       "1      A wonderful little production. <br /><br />The...  positive\n",
       "2      I thought this was a wonderful way to spend ti...  positive\n",
       "3      Basically there's a family where a little boy ...  negative\n",
       "4      Petter Mattei's \"Love in the Time of Money\" is...  positive\n",
       "...                                                  ...       ...\n",
       "49995  I thought this movie did a down right good job...  positive\n",
       "49996  Bad plot, bad dialogue, bad acting, idiotic di...  negative\n",
       "49997  I am a Catholic taught in parochial elementary...  negative\n",
       "49998  I'm going to have to disagree with the previou...  negative\n",
       "49999  No one expects the Star Trek movies to be high...  negative\n",
       "\n",
       "[50000 rows x 2 columns]>"
      ]
     },
     "execution_count": 96,
     "metadata": {},
     "output_type": "execute_result"
    }
   ],
   "source": [
    "imdb.tail"
   ]
  },
  {
   "cell_type": "code",
   "execution_count": 97,
   "id": "b1649682",
   "metadata": {},
   "outputs": [
    {
     "name": "stdout",
     "output_type": "stream",
     "text": [
      "review       0\n",
      "sentiment    0\n",
      "dtype: int64\n"
     ]
    }
   ],
   "source": [
    "# now we are going to clean and process the data\n",
    "# Check for missing values\n",
    "print(imdb.isnull().sum())\n",
    "\n",
    "# Remove rows with missing values\n",
    "imdb = imdb.dropna()"
   ]
  },
  {
   "cell_type": "code",
   "execution_count": 98,
   "id": "226efac5",
   "metadata": {},
   "outputs": [],
   "source": [
    "#text cleaning\n",
    "import re\n",
    "\n",
    "# Function to clean text\n",
    "def clean_text(text):\n",
    "    # Remove HTML tags\n",
    "    text = re.sub('<.*?>', '', text)\n",
    "    # Remove special characters and numbers\n",
    "    text = re.sub('[^A-Za-z]+', ' ', text)\n",
    "    # Convert to lowercase\n",
    "    text = text.lower()\n",
    "    return text\n",
    "\n",
    "# Apply the cleaning function to the 'review' column\n",
    "imdb['review'] = imdb['review'].apply(clean_text)\n"
   ]
  },
  {
   "cell_type": "code",
   "execution_count": 99,
   "id": "9de920fb",
   "metadata": {},
   "outputs": [
    {
     "data": {
      "text/plain": [
       "<bound method NDFrame.head of                                                   review sentiment\n",
       "0      one of the other reviewers has mentioned that ...  positive\n",
       "1      a wonderful little production the filming tech...  positive\n",
       "2      i thought this was a wonderful way to spend ti...  positive\n",
       "3      basically there s a family where a little boy ...  negative\n",
       "4      petter mattei s love in the time of money is a...  positive\n",
       "...                                                  ...       ...\n",
       "49995  i thought this movie did a down right good job...  positive\n",
       "49996  bad plot bad dialogue bad acting idiotic direc...  negative\n",
       "49997  i am a catholic taught in parochial elementary...  negative\n",
       "49998  i m going to have to disagree with the previou...  negative\n",
       "49999  no one expects the star trek movies to be high...  negative\n",
       "\n",
       "[50000 rows x 2 columns]>"
      ]
     },
     "execution_count": 99,
     "metadata": {},
     "output_type": "execute_result"
    }
   ],
   "source": [
    "imdb.head"
   ]
  },
  {
   "cell_type": "code",
   "execution_count": 100,
   "id": "fae31ed1",
   "metadata": {},
   "outputs": [
    {
     "name": "stdout",
     "output_type": "stream",
     "text": [
      "Raw Text - Before Cleaning:\n",
      "one of the other reviewers has mentioned that after watching just oz episode you ll be hooked they are right as this is exactly what happened with me the first thing that struck me about oz was its brutality and unflinching scenes of violence which set in right from the word go trust me this is not a show for the faint hearted or timid this show pulls no punches with regards to drugs sex or violence its is hardcore in the classic use of the word it is called oz as that is the nickname given to the oswald maximum security state penitentary it focuses mainly on emerald city an experimental section of the prison where all the cells have glass fronts and face inwards so privacy is not high on the agenda em city is home to many aryans muslims gangstas latinos christians italians irish and more so scuffles death stares dodgy dealings and shady agreements are never far away i would say the main appeal of the show is due to the fact that it goes where other shows wouldn t dare forget pretty pictures painted for mainstream audiences forget charm forget romance oz doesn t mess around the first episode i ever saw struck me as so nasty it was surreal i couldn t say i was ready for it but as i watched more i developed a taste for oz and got accustomed to the high levels of graphic violence not just violence but injustice crooked guards who ll be sold out for a nickel inmates who ll kill on order and get away with it well mannered middle class inmates being turned into prison bitches due to their lack of street skills or prison experience watching oz you may become comfortable with what is uncomfortable viewing thats if you can get in touch with your darker side \n",
      "--------------------------------------------------\n",
      "a wonderful little production the filming technique is very unassuming very old time bbc fashion and gives a comforting and sometimes discomforting sense of realism to the entire piece the actors are extremely well chosen michael sheen not only has got all the polari but he has all the voices down pat too you can truly see the seamless editing guided by the references to williams diary entries not only is it well worth the watching but it is a terrificly written and performed piece a masterful production about one of the great master s of comedy and his life the realism really comes home with the little things the fantasy of the guard which rather than use the traditional dream techniques remains solid then disappears it plays on our knowledge and our senses particularly with the scenes concerning orton and halliwell and the sets particularly of their flat with halliwell s murals decorating every surface are terribly well done \n",
      "--------------------------------------------------\n",
      "i thought this was a wonderful way to spend time on a too hot summer weekend sitting in the air conditioned theater and watching a light hearted comedy the plot is simplistic but the dialogue is witty and the characters are likable even the well bread suspected serial killer while some may be disappointed when they realize this is not match point risk addiction i thought it was proof that woody allen is still fully in control of the style many of us have grown to love this was the most i d laughed at one of woody s comedies in years dare i say a decade while i ve never been impressed with scarlet johanson in this she managed to tone down her sexy image and jumped right into a average but spirited young woman this may not be the crown jewel of his career but it was wittier than devil wears prada and more interesting than superman a great comedy to go see with friends \n",
      "--------------------------------------------------\n",
      "basically there s a family where a little boy jake thinks there s a zombie in his closet his parents are fighting all the time this movie is slower than a soap opera and suddenly jake decides to become rambo and kill the zombie ok first of all when you re going to make a film you must decide if its a thriller or a drama as a drama the movie is watchable parents are divorcing arguing like in real life and then we have jake with his closet which totally ruins all the film i expected to see a boogeyman similar movie and instead i watched a drama with some meaningless thriller spots out of just for the well playing parents descent dialogs as for the shots with jake just ignore them \n",
      "--------------------------------------------------\n",
      "petter mattei s love in the time of money is a visually stunning film to watch mr mattei offers us a vivid portrait about human relations this is a movie that seems to be telling us what money power and success do to people in the different situations we encounter this being a variation on the arthur schnitzler s play about the same theme the director transfers the action to the present time new york where all these different characters meet and connect each one is connected in one way or another to the next person but no one seems to know the previous point of contact stylishly the film has a sophisticated luxurious look we are taken to see how these people live and the world they live in their own habitat the only thing one gets out of all these souls in the picture is the different stages of loneliness each one inhabits a big city is not exactly the best place in which human relations find sincere fulfillment as one discerns is the case with most of the people we encounter the acting is good under mr mattei s direction steve buscemi rosario dawson carol kane michael imperioli adrian grenier and the rest of the talented cast make these characters come alive we wish mr mattei good luck and await anxiously for his next work \n",
      "--------------------------------------------------\n",
      "\n",
      "Cleaned Text:\n",
      "one of the other reviewers has mentioned that after watching just oz episode you ll be hooked they are right as this is exactly what happened with me the first thing that struck me about oz was its brutality and unflinching scenes of violence which set in right from the word go trust me this is not a show for the faint hearted or timid this show pulls no punches with regards to drugs sex or violence its is hardcore in the classic use of the word it is called oz as that is the nickname given to the oswald maximum security state penitentary it focuses mainly on emerald city an experimental section of the prison where all the cells have glass fronts and face inwards so privacy is not high on the agenda em city is home to many aryans muslims gangstas latinos christians italians irish and more so scuffles death stares dodgy dealings and shady agreements are never far away i would say the main appeal of the show is due to the fact that it goes where other shows wouldn t dare forget pretty pictures painted for mainstream audiences forget charm forget romance oz doesn t mess around the first episode i ever saw struck me as so nasty it was surreal i couldn t say i was ready for it but as i watched more i developed a taste for oz and got accustomed to the high levels of graphic violence not just violence but injustice crooked guards who ll be sold out for a nickel inmates who ll kill on order and get away with it well mannered middle class inmates being turned into prison bitches due to their lack of street skills or prison experience watching oz you may become comfortable with what is uncomfortable viewing thats if you can get in touch with your darker side \n",
      "--------------------------------------------------\n",
      "a wonderful little production the filming technique is very unassuming very old time bbc fashion and gives a comforting and sometimes discomforting sense of realism to the entire piece the actors are extremely well chosen michael sheen not only has got all the polari but he has all the voices down pat too you can truly see the seamless editing guided by the references to williams diary entries not only is it well worth the watching but it is a terrificly written and performed piece a masterful production about one of the great master s of comedy and his life the realism really comes home with the little things the fantasy of the guard which rather than use the traditional dream techniques remains solid then disappears it plays on our knowledge and our senses particularly with the scenes concerning orton and halliwell and the sets particularly of their flat with halliwell s murals decorating every surface are terribly well done \n",
      "--------------------------------------------------\n",
      "i thought this was a wonderful way to spend time on a too hot summer weekend sitting in the air conditioned theater and watching a light hearted comedy the plot is simplistic but the dialogue is witty and the characters are likable even the well bread suspected serial killer while some may be disappointed when they realize this is not match point risk addiction i thought it was proof that woody allen is still fully in control of the style many of us have grown to love this was the most i d laughed at one of woody s comedies in years dare i say a decade while i ve never been impressed with scarlet johanson in this she managed to tone down her sexy image and jumped right into a average but spirited young woman this may not be the crown jewel of his career but it was wittier than devil wears prada and more interesting than superman a great comedy to go see with friends \n",
      "--------------------------------------------------\n",
      "basically there s a family where a little boy jake thinks there s a zombie in his closet his parents are fighting all the time this movie is slower than a soap opera and suddenly jake decides to become rambo and kill the zombie ok first of all when you re going to make a film you must decide if its a thriller or a drama as a drama the movie is watchable parents are divorcing arguing like in real life and then we have jake with his closet which totally ruins all the film i expected to see a boogeyman similar movie and instead i watched a drama with some meaningless thriller spots out of just for the well playing parents descent dialogs as for the shots with jake just ignore them \n",
      "--------------------------------------------------\n",
      "petter mattei s love in the time of money is a visually stunning film to watch mr mattei offers us a vivid portrait about human relations this is a movie that seems to be telling us what money power and success do to people in the different situations we encounter this being a variation on the arthur schnitzler s play about the same theme the director transfers the action to the present time new york where all these different characters meet and connect each one is connected in one way or another to the next person but no one seems to know the previous point of contact stylishly the film has a sophisticated luxurious look we are taken to see how these people live and the world they live in their own habitat the only thing one gets out of all these souls in the picture is the different stages of loneliness each one inhabits a big city is not exactly the best place in which human relations find sincere fulfillment as one discerns is the case with most of the people we encounter the acting is good under mr mattei s direction steve buscemi rosario dawson carol kane michael imperioli adrian grenier and the rest of the talented cast make these characters come alive we wish mr mattei good luck and await anxiously for his next work \n",
      "--------------------------------------------------\n"
     ]
    }
   ],
   "source": [
    "#to check if it was clean\n",
    "# Print a few samples of raw text before cleaning\n",
    "print(\"Raw Text - Before Cleaning:\")\n",
    "for i in range(5):\n",
    "    print(imdb['review'].iloc[i])\n",
    "    print('-' * 50)\n",
    "\n",
    "# Apply the cleaning function\n",
    "imdb['cleaned_review'] = imdb['review'].apply(clean_text)\n",
    "\n",
    "# Print the same samples after cleaning\n",
    "print(\"\\nCleaned Text:\")\n",
    "for i in range(5):\n",
    "    print(imdb['cleaned_review'].iloc[i])\n",
    "    print('-' * 50)\n"
   ]
  },
  {
   "cell_type": "code",
   "execution_count": 101,
   "id": "6f5dbafb",
   "metadata": {},
   "outputs": [
    {
     "name": "stdout",
     "output_type": "stream",
     "text": [
      "Raw Text:\n",
      "phil the alien is one of those quirky films where the humour is based around the oddness of everything rather than actual punchlines at first it was very odd and pretty funny but as the movie progressed i didn t find the jokes or oddness funny anymore its a low budget film thats never a problem in itself there were some pretty interesting characters but eventually i just lost interest i imagine this film would appeal to a stoner who is currently partaking for something similar but better try brother from another planet \n",
      "--------------------------------------------------\n",
      "\n",
      "Cleaned Text:\n",
      "phil the alien is one of those quirky films where the humour is based around the oddness of everything rather than actual punchlines at first it was very odd and pretty funny but as the movie progressed i didn t find the jokes or oddness funny anymore its a low budget film thats never a problem in itself there were some pretty interesting characters but eventually i just lost interest i imagine this film would appeal to a stoner who is currently partaking for something similar but better try brother from another planet \n",
      "--------------------------------------------------\n"
     ]
    }
   ],
   "source": [
    "#checking\n",
    "# Print specific entries for detailed comparison\n",
    "index_to_check = 10  # Change this index as needed\n",
    "print(\"Raw Text:\")\n",
    "print(imdb['review'].iloc[index_to_check])\n",
    "print('-' * 50)\n",
    "\n",
    "print(\"\\nCleaned Text:\")\n",
    "print(imdb['cleaned_review'].iloc[index_to_check])\n",
    "print('-' * 50)\n"
   ]
  },
  {
   "cell_type": "code",
   "execution_count": 102,
   "id": "b468784f",
   "metadata": {},
   "outputs": [
    {
     "name": "stderr",
     "output_type": "stream",
     "text": [
      "[nltk_data] Downloading package stopwords to\n",
      "[nltk_data]     C:\\Users\\ym221\\AppData\\Roaming\\nltk_data...\n",
      "[nltk_data]   Package stopwords is already up-to-date!\n"
     ]
    },
    {
     "data": {
      "text/plain": [
       "True"
      ]
     },
     "execution_count": 102,
     "metadata": {},
     "output_type": "execute_result"
    }
   ],
   "source": [
    "nltk.download('stopwords')\n"
   ]
  },
  {
   "cell_type": "code",
   "execution_count": 103,
   "id": "b1879581",
   "metadata": {},
   "outputs": [],
   "source": [
    "def remove_stopwords(text):\n",
    "    stop_words = set(stopwords.words('english'))\n",
    "    word_tokens = word_tokenize(text)\n",
    "    filtered_text = [word for word in word_tokens if word.lower() not in stop_words]\n",
    "    return ' '.join(filtered_text)\n"
   ]
  },
  {
   "cell_type": "code",
   "execution_count": 104,
   "id": "1ac6a6f2",
   "metadata": {},
   "outputs": [
    {
     "name": "stderr",
     "output_type": "stream",
     "text": [
      "[nltk_data] Downloading package punkt to\n",
      "[nltk_data]     C:\\Users\\ym221\\AppData\\Roaming\\nltk_data...\n",
      "[nltk_data]   Package punkt is already up-to-date!\n"
     ]
    },
    {
     "data": {
      "text/plain": [
       "True"
      ]
     },
     "execution_count": 104,
     "metadata": {},
     "output_type": "execute_result"
    }
   ],
   "source": [
    "import nltk\n",
    "\n",
    "# Download the 'punkt' resource\n",
    "nltk.download('punkt')\n"
   ]
  },
  {
   "cell_type": "code",
   "execution_count": 105,
   "id": "c8b15ff1",
   "metadata": {},
   "outputs": [],
   "source": [
    "# Apply the function to the 'review' column\n",
    "imdb['review'] = imdb['review'].apply(remove_stopwords)\n"
   ]
  },
  {
   "cell_type": "code",
   "execution_count": 106,
   "id": "bd0b8bca",
   "metadata": {},
   "outputs": [
    {
     "name": "stdout",
     "output_type": "stream",
     "text": [
      "Before Tokenization and Stopwords Removal:\n",
      "0    one reviewers mentioned watching oz episode ho...\n",
      "1    wonderful little production filming technique ...\n",
      "2    thought wonderful way spend time hot summer we...\n",
      "3    basically family little boy jake thinks zombie...\n",
      "4    petter mattei love time money visually stunnin...\n",
      "Name: review, dtype: object\n",
      "\n",
      "After Tokenization and Stopwords Removal:\n",
      "0    one reviewers mentioned watching oz episode ho...\n",
      "1    wonderful little production filming technique ...\n",
      "2    thought wonderful way spend time hot summer we...\n",
      "3    basically family little boy jake thinks zombie...\n",
      "4    petter mattei love time money visually stunnin...\n",
      "Name: review, dtype: object\n"
     ]
    }
   ],
   "source": [
    "#for checking\n",
    "# Check a few samples of 'review' column before and after applying the function\n",
    "print(\"Before Tokenization and Stopwords Removal:\")\n",
    "print(imdb['review'].head())\n",
    "\n",
    "# Apply the function to the 'review' column\n",
    "imdb['review'] = imdb['review'].apply(remove_stopwords)\n",
    "\n",
    "# Check the same samples after applying the function\n",
    "print(\"\\nAfter Tokenization and Stopwords Removal:\")\n",
    "print(imdb['review'].head())\n"
   ]
  },
  {
   "cell_type": "code",
   "execution_count": 107,
   "id": "ad69235f",
   "metadata": {},
   "outputs": [
    {
     "name": "stdout",
     "output_type": "stream",
     "text": [
      "0\n"
     ]
    }
   ],
   "source": [
    "print(imdb['sentiment'].isnull().sum())"
   ]
  },
  {
   "cell_type": "code",
   "execution_count": 108,
   "id": "9daa95f8",
   "metadata": {},
   "outputs": [],
   "source": [
    "imdb = imdb.dropna(subset=['sentiment'])"
   ]
  },
  {
   "cell_type": "code",
   "execution_count": 109,
   "id": "bab65a99",
   "metadata": {},
   "outputs": [],
   "source": [
    "imdb['sentiment'] = imdb['sentiment'].fillna('unknown')\n"
   ]
  },
  {
   "cell_type": "code",
   "execution_count": 110,
   "id": "57de10de",
   "metadata": {},
   "outputs": [
    {
     "name": "stdout",
     "output_type": "stream",
     "text": [
      "['positive' 'negative']\n"
     ]
    }
   ],
   "source": [
    "print(imdb['sentiment'].unique())\n"
   ]
  },
  {
   "cell_type": "code",
   "execution_count": 111,
   "id": "440ac206",
   "metadata": {},
   "outputs": [],
   "source": [
    "# Replace unexpected values with a default value (e.g., 'unknown')\n",
    "imdb['sentiment'] = imdb['sentiment'].map({'positive': 1, 'negative': 0,})\n"
   ]
  },
  {
   "cell_type": "code",
   "execution_count": 112,
   "id": "be7a20d8",
   "metadata": {},
   "outputs": [
    {
     "data": {
      "text/plain": [
       "<bound method NDFrame.head of                                                   review  sentiment  \\\n",
       "0      one reviewers mentioned watching oz episode ho...          1   \n",
       "1      wonderful little production filming technique ...          1   \n",
       "2      thought wonderful way spend time hot summer we...          1   \n",
       "3      basically family little boy jake thinks zombie...          0   \n",
       "4      petter mattei love time money visually stunnin...          1   \n",
       "...                                                  ...        ...   \n",
       "49995  thought movie right good job creative original...          1   \n",
       "49996  bad plot bad dialogue bad acting idiotic direc...          0   \n",
       "49997  catholic taught parochial elementary schools n...          0   \n",
       "49998  going disagree previous comment side maltin on...          0   \n",
       "49999  one expects star trek movies high art fans exp...          0   \n",
       "\n",
       "                                          cleaned_review  \n",
       "0      one of the other reviewers has mentioned that ...  \n",
       "1      a wonderful little production the filming tech...  \n",
       "2      i thought this was a wonderful way to spend ti...  \n",
       "3      basically there s a family where a little boy ...  \n",
       "4      petter mattei s love in the time of money is a...  \n",
       "...                                                  ...  \n",
       "49995  i thought this movie did a down right good job...  \n",
       "49996  bad plot bad dialogue bad acting idiotic direc...  \n",
       "49997  i am a catholic taught in parochial elementary...  \n",
       "49998  i m going to have to disagree with the previou...  \n",
       "49999  no one expects the star trek movies to be high...  \n",
       "\n",
       "[50000 rows x 3 columns]>"
      ]
     },
     "execution_count": 112,
     "metadata": {},
     "output_type": "execute_result"
    }
   ],
   "source": [
    "imdb.head"
   ]
  },
  {
   "cell_type": "code",
   "execution_count": 113,
   "id": "c1a50bf1",
   "metadata": {},
   "outputs": [],
   "source": [
    "#split the data\n",
    "from sklearn.model_selection import train_test_split\n",
    "\n",
    "X_train, X_test, y_train, y_test = train_test_split(imdb['review'], imdb['sentiment'], test_size=0.2, random_state=42)\n"
   ]
  },
  {
   "cell_type": "code",
   "execution_count": 114,
   "id": "6fb69304",
   "metadata": {},
   "outputs": [
    {
     "name": "stdout",
     "output_type": "stream",
     "text": [
      "39087    kept asking many fights screaming matches swea...\n",
      "30893    watch entire movie could watch entire movie st...\n",
      "45278    touching love story reminiscent mood love draw...\n",
      "16398    latter day fulci schlocker totally abysmal con...\n",
      "13653    first firmly believe norwegian movies continua...\n",
      "                               ...                        \n",
      "11284    shadow magic recaptures joy amazement first mo...\n",
      "44732    found movie quite enjoyable fairly entertainin...\n",
      "38158    avoid one terrible movie exciting pointless mu...\n",
      "860      production quite surprise absolutely love obsc...\n",
      "15795    decent movie although little bit short time pa...\n",
      "Name: review, Length: 40000, dtype: object 39087    0\n",
      "30893    0\n",
      "45278    1\n",
      "16398    0\n",
      "13653    0\n",
      "        ..\n",
      "11284    1\n",
      "44732    1\n",
      "38158    0\n",
      "860      1\n",
      "15795    1\n",
      "Name: sentiment, Length: 40000, dtype: int64\n"
     ]
    }
   ],
   "source": [
    "print(X_train,y_train)\n"
   ]
  },
  {
   "cell_type": "code",
   "execution_count": 115,
   "id": "244a3fa0",
   "metadata": {},
   "outputs": [],
   "source": [
    "from sklearn.feature_extraction.text import TfidfVectorizer\n",
    "# Initialize the TfidfVectorizer\n",
    "tfidf_vectorizer = TfidfVectorizer(max_features=50000)  # You can adjust max_features based on your dataset\n",
    "\n",
    "# Fit and transform the training data\n",
    "X_train_tfidf = tfidf_vectorizer.fit_transform(X_train)\n",
    "\n",
    "# Transform the testing data\n",
    "X_test_tfidf = tfidf_vectorizer.transform(X_test)\n",
    "\n",
    "# Now, X_train_tfidf and X_test_tfidf contain the TF-IDF representations of the text data\n"
   ]
  },
  {
   "cell_type": "code",
   "execution_count": 116,
   "id": "bf2d07cf",
   "metadata": {},
   "outputs": [
    {
     "name": "stdout",
     "output_type": "stream",
     "text": [
      "Accuracy: 0.8971\n",
      "Classification Report:\n",
      "              precision    recall  f1-score   support\n",
      "\n",
      "           0       0.91      0.88      0.89      4961\n",
      "           1       0.89      0.91      0.90      5039\n",
      "\n",
      "    accuracy                           0.90     10000\n",
      "   macro avg       0.90      0.90      0.90     10000\n",
      "weighted avg       0.90      0.90      0.90     10000\n",
      "\n"
     ]
    }
   ],
   "source": [
    "\n",
    "# Train the model\n",
    "model = LogisticRegression()\n",
    "model.fit(X_train_tfidf, y_train)\n",
    "\n",
    "# Make predictions on the test set\n",
    "y_pred = model.predict(X_test_tfidf)\n",
    "\n",
    "# Evaluate model performance\n",
    "accuracy = accuracy_score(y_test, y_pred)\n",
    "print(f\"Accuracy: {accuracy}\")\n",
    "\n",
    "# Print classification report for detailed metrics\n",
    "print(\"Classification Report:\")\n",
    "print(classification_report(y_test, y_pred))\n"
   ]
  },
  {
   "cell_type": "code",
   "execution_count": 117,
   "id": "5b60a5e2",
   "metadata": {},
   "outputs": [
    {
     "name": "stdout",
     "output_type": "stream",
     "text": [
      "                                                  review  predicted_sentiment\n",
      "0      One of the other reviewers has mentioned that ...                    1\n",
      "1      A wonderful little production. <br /><br />The...                    1\n",
      "2      I thought this was a wonderful way to spend ti...                    1\n",
      "3      Basically there's a family where a little boy ...                    0\n",
      "4      Petter Mattei's \"Love in the Time of Money\" is...                    1\n",
      "...                                                  ...                  ...\n",
      "49995  I thought this movie did a down right good job...                    1\n",
      "49996  Bad plot, bad dialogue, bad acting, idiotic di...                    0\n",
      "49997  I am a Catholic taught in parochial elementary...                    1\n",
      "49998  I'm going to have to disagree with the previou...                    0\n",
      "49999  No one expects the Star Trek movies to be high...                    0\n",
      "\n",
      "[50000 rows x 2 columns]\n"
     ]
    }
   ],
   "source": [
    "# Assuming you have a new dataset 'new_data' with a 'review' column\n",
    "new_data = pd.read_csv('IMDB Dataset.csv')\n",
    "\n",
    "# Preprocess the new data using the same TF-IDF vectorizer\n",
    "new_data_tfidf = tfidf_vectorizer.transform(new_data['review'])\n",
    "\n",
    "# Make predictions using the trained logistic regression model\n",
    "new_data_predictions = model.predict(new_data_tfidf)\n",
    "\n",
    "# Display the predictions\n",
    "new_data['predicted_sentiment'] = new_data_predictions\n",
    "print(new_data[['review', 'predicted_sentiment']])\n",
    "\n"
   ]
  },
  {
   "cell_type": "code",
   "execution_count": 119,
   "id": "8badfe1a",
   "metadata": {},
   "outputs": [
    {
     "name": "stdout",
     "output_type": "stream",
     "text": [
      "Predicted sentiment for the text: 'I hsted the movie it was very boring' is negative\n",
      "Predicted sentiment for the text: 'The movie was terrible, a waste of time and money.' is negative\n",
      "Predicted sentiment for the text: 'It was an okay movie, not the best but not the worst either.' is negative\n"
     ]
    }
   ],
   "source": [
    "# now we can predict if the the review is positve or negative\n",
    "# Function to preprocess and predict sentiment for a given text\n",
    "def predict_sentiment(text):\n",
    "    # Preprocess the text\n",
    "    text_tfidf = tfidf_vectorizer.transform([text])\n",
    "    \n",
    "    # Make prediction\n",
    "    prediction = model.predict(text_tfidf)\n",
    "    \n",
    "    # Print the result\n",
    "    sentiment = \"positive\" if prediction[0] == 1 else \"negative\"\n",
    "    print(f\"Predicted sentiment for the text: '{text}' is {sentiment}\")\n",
    "\n",
    "# Example text samples\n",
    "text_samples = [\n",
    "    \"I hsted the movie it was very boring\",\n",
    "    \"The movie was terrible, a waste of time and money.\",\n",
    "    \"It was an okay movie, not the best but not the worst either.\"\n",
    "]\n",
    "\n",
    "# Predict sentiment for each text sample\n",
    "for text_sample in text_samples:\n",
    "    predict_sentiment(text_sample)\n"
   ]
  },
  {
   "cell_type": "markdown",
   "id": "674f6281",
   "metadata": {},
   "source": [
    "imdb.head"
   ]
  },
  {
   "cell_type": "code",
   "execution_count": null,
   "id": "596a4749",
   "metadata": {},
   "outputs": [],
   "source": [
    "\n"
   ]
  },
  {
   "cell_type": "code",
   "execution_count": null,
   "id": "b90e9e3a",
   "metadata": {},
   "outputs": [],
   "source": []
  },
  {
   "cell_type": "code",
   "execution_count": null,
   "id": "48bc3fb5",
   "metadata": {},
   "outputs": [],
   "source": []
  }
 ],
 "metadata": {
  "kernelspec": {
   "display_name": "Python 3 (ipykernel)",
   "language": "python",
   "name": "python3"
  },
  "language_info": {
   "codemirror_mode": {
    "name": "ipython",
    "version": 3
   },
   "file_extension": ".py",
   "mimetype": "text/x-python",
   "name": "python",
   "nbconvert_exporter": "python",
   "pygments_lexer": "ipython3",
   "version": "3.11.5"
  }
 },
 "nbformat": 4,
 "nbformat_minor": 5
}
